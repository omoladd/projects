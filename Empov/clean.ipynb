{
 "cells": [
  {
   "cell_type": "code",
   "execution_count": 1,
   "metadata": {},
   "outputs": [],
   "source": [
    "import pandas as pd"
   ]
  },
  {
   "cell_type": "code",
   "execution_count": 4,
   "metadata": {},
   "outputs": [],
   "source": [
    "df = pd.read_csv(\"Employment Survey Data.csv\")"
   ]
  },
  {
   "cell_type": "code",
   "execution_count": 7,
   "metadata": {},
   "outputs": [
    {
     "data": {
      "text/html": [
       "<div>\n",
       "<style scoped>\n",
       "    .dataframe tbody tr th:only-of-type {\n",
       "        vertical-align: middle;\n",
       "    }\n",
       "\n",
       "    .dataframe tbody tr th {\n",
       "        vertical-align: top;\n",
       "    }\n",
       "\n",
       "    .dataframe thead th {\n",
       "        text-align: right;\n",
       "    }\n",
       "</style>\n",
       "<table border=\"1\" class=\"dataframe\">\n",
       "  <thead>\n",
       "    <tr style=\"text-align: right;\">\n",
       "      <th></th>\n",
       "      <th>ID</th>\n",
       "      <th>Name</th>\n",
       "      <th>Age</th>\n",
       "      <th>Gender</th>\n",
       "      <th>City</th>\n",
       "      <th>Education</th>\n",
       "      <th>Employment Status</th>\n",
       "      <th>Salary</th>\n",
       "      <th>Health Condition</th>\n",
       "      <th>Credit Score</th>\n",
       "    </tr>\n",
       "  </thead>\n",
       "  <tbody>\n",
       "    <tr>\n",
       "      <th>0</th>\n",
       "      <td>1</td>\n",
       "      <td>GARCIA JUAN</td>\n",
       "      <td>78</td>\n",
       "      <td>M</td>\n",
       "      <td>Albuquerque</td>\n",
       "      <td>Bachelor</td>\n",
       "      <td>Employed</td>\n",
       "      <td>$80,000</td>\n",
       "      <td>Good</td>\n",
       "      <td>720</td>\n",
       "    </tr>\n",
       "    <tr>\n",
       "      <th>1</th>\n",
       "      <td>2</td>\n",
       "      <td>MONTOYA CAMERON</td>\n",
       "      <td>17</td>\n",
       "      <td>F</td>\n",
       "      <td>Albuque</td>\n",
       "      <td>Associate</td>\n",
       "      <td>Unemployed</td>\n",
       "      <td>$0</td>\n",
       "      <td>Excellent</td>\n",
       "      <td>NaN</td>\n",
       "    </tr>\n",
       "    <tr>\n",
       "      <th>2</th>\n",
       "      <td>3</td>\n",
       "      <td>SATTERFIELD VIVIANA</td>\n",
       "      <td>15</td>\n",
       "      <td>M</td>\n",
       "      <td>Albuque</td>\n",
       "      <td>PhD</td>\n",
       "      <td>Self-employed</td>\n",
       "      <td>$120,000</td>\n",
       "      <td>Poor</td>\n",
       "      <td>550</td>\n",
       "    </tr>\n",
       "    <tr>\n",
       "      <th>3</th>\n",
       "      <td>4</td>\n",
       "      <td>MENDIOLA CARLOS</td>\n",
       "      <td>32</td>\n",
       "      <td>F</td>\n",
       "      <td>Albuque</td>\n",
       "      <td>High School</td>\n",
       "      <td>Employed</td>\n",
       "      <td>$45,000</td>\n",
       "      <td>Excellent</td>\n",
       "      <td>800</td>\n",
       "    </tr>\n",
       "    <tr>\n",
       "      <th>4</th>\n",
       "      <td>5</td>\n",
       "      <td>MULA VIVIAN</td>\n",
       "      <td>72</td>\n",
       "      <td>M</td>\n",
       "      <td>Albuque</td>\n",
       "      <td>Master's</td>\n",
       "      <td>Retired</td>\n",
       "      <td>$50,000</td>\n",
       "      <td>Average</td>\n",
       "      <td>680</td>\n",
       "    </tr>\n",
       "  </tbody>\n",
       "</table>\n",
       "</div>"
      ],
      "text/plain": [
       "   ID                 Name Age Gender         City    Education  \\\n",
       "0   1          GARCIA JUAN  78      M  Albuquerque     Bachelor   \n",
       "1   2      MONTOYA CAMERON  17      F      Albuque    Associate   \n",
       "2   3  SATTERFIELD VIVIANA  15      M      Albuque          PhD   \n",
       "3   4      MENDIOLA CARLOS  32      F      Albuque  High School   \n",
       "4   5          MULA VIVIAN  72      M      Albuque     Master's   \n",
       "\n",
       "  Employment Status     Salary Health Condition Credit Score  \n",
       "0          Employed   $80,000              Good          720  \n",
       "1        Unemployed        $0         Excellent          NaN  \n",
       "2     Self-employed  $120,000              Poor          550  \n",
       "3          Employed   $45,000         Excellent          800  \n",
       "4           Retired   $50,000           Average          680  "
      ]
     },
     "execution_count": 7,
     "metadata": {},
     "output_type": "execute_result"
    }
   ],
   "source": [
    "df.head()"
   ]
  },
  {
   "cell_type": "code",
   "execution_count": 11,
   "metadata": {},
   "outputs": [
    {
     "data": {
      "text/plain": [
       "ID                      0\n",
       "Name                    0\n",
       "Age                     0\n",
       "Gender               1626\n",
       "City                    0\n",
       "Education             216\n",
       "Employment Status       0\n",
       "Salary                  0\n",
       "Health Condition       45\n",
       "Credit Score          504\n",
       "dtype: int64"
      ]
     },
     "execution_count": 11,
     "metadata": {},
     "output_type": "execute_result"
    }
   ],
   "source": [
    "# to identify the number of missing entries\n",
    "\n",
    "df.isna().sum()"
   ]
  },
  {
   "cell_type": "code",
   "execution_count": 16,
   "metadata": {},
   "outputs": [
    {
     "data": {
      "text/plain": [
       "1606           $150,000 (Outlier)\n",
       "1607                          $0 \n",
       "1608           $80,000 (Unstable)\n",
       "1609            $20,000 (Stipend)\n",
       "1610             $30,000 (Hourly)\n",
       "1611                          $0 \n",
       "1612           $45,000 (Unstable)\n",
       "1613                     $60,000 \n",
       "1614                          $0 \n",
       "1615          $120,000 (Seasonal)\n",
       "1616                          $0 \n",
       "1617        $130,000 (Commission)\n",
       "1618                          $0 \n",
       "1619                     $90,000 \n",
       "1620                          $0 \n",
       "1621             $25,000 (Hourly)\n",
       "1622           $70,000 (Seasonal)\n",
       "1623            $40,000 (Pension)\n",
       "1624           $42,000 (Unstable)\n",
       "1625                     $55,000 \n",
       "1626         $18,000 (Summer Job)\n",
       "1627                    $140,000 \n",
       "1628                          $0 \n",
       "1629                    $100,000 \n",
       "1630                          $0 \n",
       "1631           $30,000 (Unstable)\n",
       "1632                     $85,000 \n",
       "1633    $50,000 (Social Security)\n",
       "1634                          $0 \n",
       "1635                     $40,000 \n",
       "1636                          $0 \n",
       "1637                          $0 \n",
       "1638                          $0 \n",
       "1639        $110,000 (Commission)\n",
       "1640                          $0 \n",
       "1641           $38,000 (Unstable)\n",
       "1642                     $95,000 \n",
       "1643    $55,000 (Social Security)\n",
       "1644           $150,000 (Outlier)\n",
       "1645                          $0 \n",
       "1646           $80,000 (Unstable)\n",
       "1647            $20,000 (Stipend)\n",
       "1648             $30,000 (Hourly)\n",
       "1649                          $0 \n",
       "1650           $45,000 (Unstable)\n",
       "1651                     $60,000 \n",
       "1652                          $0 \n",
       "1653          $120,000 (Seasonal)\n",
       "1654                          $0 \n",
       "1655        $130,000 (Commission)\n",
       "Name: Salary, dtype: object"
      ]
     },
     "execution_count": 16,
     "metadata": {},
     "output_type": "execute_result"
    }
   ],
   "source": [
    "df[\"Salary\"].tail(50)"
   ]
  },
  {
   "cell_type": "code",
   "execution_count": null,
   "metadata": {},
   "outputs": [],
   "source": []
  }
 ],
 "metadata": {
  "kernelspec": {
   "display_name": "base",
   "language": "python",
   "name": "python3"
  },
  "language_info": {
   "codemirror_mode": {
    "name": "ipython",
    "version": 3
   },
   "file_extension": ".py",
   "mimetype": "text/x-python",
   "name": "python",
   "nbconvert_exporter": "python",
   "pygments_lexer": "ipython3",
   "version": "3.11.7"
  }
 },
 "nbformat": 4,
 "nbformat_minor": 2
}
